{
  "cells": [
    {
      "cell_type": "code",
      "execution_count": null,
      "metadata": {
        "id": "bBhqoM45N2uN"
      },
      "outputs": [],
      "source": [
        "#install kaggle\n",
        "!pip install -q kaggle\n",
        "\n",
        "from google.colab import files\n",
        "files.upload()\n",
        "\n",
        "! mkdir ~/.kaggle\n",
        "\n",
        "! cp kaggle.json ~/.kaggle/\n",
        "\n",
        "! chmod 600 ~/.kaggle/kaggle.json\n",
        "\n",
        "!kaggle datasets download -d vipoooool/new-plant-diseases-dataset\n",
        "\n",
        "!unzip new-plant-diseases-dataset.zip"
      ]
    },
    {
      "cell_type": "code",
      "execution_count": 2,
      "metadata": {
        "id": "W4urbn6zPVH8"
      },
      "outputs": [],
      "source": [
        "import cv2\n",
        "import numpy as np\n",
        "import tensorflow as tf\n",
        "from tensorflow.keras import models, layers\n",
        "from sklearn.model_selection import train_test_split\n",
        "from sklearn.svm import SVC\n",
        "from sklearn.metrics import accuracy_score, classification_report\n",
        "from sklearn.preprocessing import LabelEncoder\n",
        "from sklearn import metrics\n",
        "import matplotlib.pyplot as plt\n",
        "import os\n",
        "from skimage.feature import graycomatrix\n",
        "from skimage import io, color, feature\n",
        "from sklearn.neighbors import KNeighborsClassifier\n",
        "from sklearn.metrics import accuracy_score\n",
        "import pywt"
      ]
    },
    {
      "cell_type": "code",
      "execution_count": 3,
      "metadata": {
        "id": "oy07X9KsPZBD"
      },
      "outputs": [],
      "source": [
        "def calculate_gabor_features(image):\n",
        "    # Convert the image to grayscale\n",
        "    gray_image = cv2.cvtColor(image, cv2.COLOR_BGR2GRAY)\n",
        "\n",
        "    # Set Gabor filter parameters\n",
        "    ksize = 31  # Kernel size\n",
        "    sigma = 5   # Standard deviation of the filter\n",
        "    theta = 0   # Orientation of the filter (in radians)\n",
        "    lambd = 10  # Wavelength of the sinusoidal factor\n",
        "    gamma = 0.5 # Spatial aspect ratio\n",
        "\n",
        "    # Create a Gabor kernel\n",
        "    gabor_kernel = cv2.getGaborKernel((ksize, ksize), sigma, theta, lambd, gamma, 0, ktype=cv2.CV_32F)\n",
        "\n",
        "    # Apply the Gabor filter to the image\n",
        "    gabor_filtered_image = cv2.filter2D(gray_image, cv2.CV_8UC3, gabor_kernel)\n",
        "\n",
        "    # Calculate histograms for the Gabor-filtered image\n",
        "    hist_gabor = cv2.calcHist([gabor_filtered_image], [0], None, [256], [0, 256])\n",
        "\n",
        "    return hist_gabor.flatten()"
      ]
    },
    {
      "cell_type": "code",
      "execution_count": 4,
      "metadata": {
        "id": "UWdhuClTQM0c"
      },
      "outputs": [],
      "source": [
        "def extract_features(image_path):\n",
        "    image = cv2.imread(image_path)\n",
        "    # Calculate Gabor filter features\n",
        "    gabor_features = calculate_gabor_features(image)\n",
        "\n",
        "    return gabor_features"
      ]
    },
    {
      "cell_type": "code",
      "execution_count": 5,
      "metadata": {
        "id": "Fkncy0nlQe2f"
      },
      "outputs": [],
      "source": [
        "# Load your dataset and extract features\n",
        "data_folder = '/content/New Plant Diseases Dataset(Augmented)/New Plant Diseases Dataset(Augmented)/train'\n",
        "BATCH_SIZE = 32\n",
        "classes = os.listdir(data_folder)\n",
        "X, y = [], []"
      ]
    },
    {
      "cell_type": "code",
      "execution_count": null,
      "metadata": {
        "colab": {
          "base_uri": "https://localhost:8080/",
          "height": 0
        },
        "id": "sRBDw9rJQhfX",
        "outputId": "c4aa6960-cc72-493c-bd93-b815a6051604"
      },
      "outputs": [],
      "source": [
        "\n",
        "# Inside the loop where you read images\n",
        "for class_name in classes:\n",
        "    class_path = os.path.join(data_folder, class_name)\n",
        "    images_in_class = os.listdir(class_path)\n",
        "\n",
        "    for i in range(0, len(images_in_class), BATCH_SIZE):\n",
        "        batch_images = images_in_class[i:i + BATCH_SIZE]\n",
        "        batch_features = []\n",
        "\n",
        "        for image_name in batch_images:\n",
        "            image_path = os.path.join(class_path, image_name)\n",
        "\n",
        "            # Check if the image can be read\n",
        "            image = cv2.imread(image_path)\n",
        "            if image is None or image.size == 0:\n",
        "              print(f\"Error: Unable to read or empty image at {image_path}\")\n",
        "              continue  # Skip to the next iteration\n",
        "\n",
        "            features = extract_features(image_path)\n",
        "\n",
        "            print(features)\n",
        "            print(class_name)\n",
        "\n",
        "            if features is not None:\n",
        "                batch_features.append(features)\n",
        "\n",
        "        if batch_features:\n",
        "            # Concatenate features for the batch\n",
        "            batch_features = np.vstack(batch_features)\n",
        "\n",
        "            # Append features and labels to X and y\n",
        "            X.extend(batch_features)\n",
        "            y.extend([class_name] * len(batch_features))"
      ]
    },
    {
      "cell_type": "code",
      "execution_count": 7,
      "metadata": {
        "id": "FiUigw0hQlrW"
      },
      "outputs": [],
      "source": [
        "\n",
        "# Convert lists to numpy arrays\n",
        "X_train = np.array(X)\n",
        "y = np.array(y)\n",
        "\n",
        "# Encode class labels\n",
        "label_encoder = LabelEncoder()\n",
        "y_train = label_encoder.fit_transform(y)"
      ]
    },
    {
      "cell_type": "code",
      "execution_count": 8,
      "metadata": {
        "id": "ys9dIoDhQp-t"
      },
      "outputs": [],
      "source": [
        "# Load your dataset and extract features\n",
        "data_folder_valid = '/content/New Plant Diseases Dataset(Augmented)/New Plant Diseases Dataset(Augmented)/valid'\n",
        "BATCH_SIZE = 32\n",
        "valid_classes = os.listdir(data_folder)\n",
        "x_valid, y_valid = [], []"
      ]
    },
    {
      "cell_type": "code",
      "execution_count": null,
      "metadata": {
        "colab": {
          "base_uri": "https://localhost:8080/",
          "height": 0
        },
        "id": "c0iLxEOQSz7Z",
        "outputId": "2633ed6f-0ed4-4e03-8bd4-0193a492e6c9"
      },
      "outputs": [],
      "source": [
        "for class_name in valid_classes:\n",
        "    class_path = os.path.join(data_folder_valid, class_name)\n",
        "    images_in_class = os.listdir(class_path)\n",
        "\n",
        "    for i in range(0, len(images_in_class), BATCH_SIZE):\n",
        "        batch_images = images_in_class[i:i + BATCH_SIZE]\n",
        "        batch_features = []\n",
        "\n",
        "        for image_name in batch_images:\n",
        "            image_path = os.path.join(class_path, image_name)\n",
        "\n",
        "            # Check if the image can be read\n",
        "            image = cv2.imread(image_path)\n",
        "            if image is None or image.size == 0:\n",
        "              print(f\"Error: Unable to read or empty image at {image_path}\")\n",
        "              continue  # Skip to the next iteration\n",
        "\n",
        "            features = extract_features(image_path)\n",
        "\n",
        "            print(features)\n",
        "            print(class_name)\n",
        "\n",
        "            if features is not None:\n",
        "                batch_features.append(features)\n",
        "\n",
        "        if batch_features:\n",
        "            # Concatenate features for the batch\n",
        "            batch_features = np.vstack(batch_features)\n",
        "\n",
        "            # Append features and labels to X and y\n",
        "            x_valid.extend(batch_features)\n",
        "            y_valid.extend([class_name] * len(batch_features))"
      ]
    },
    {
      "cell_type": "code",
      "execution_count": 10,
      "metadata": {
        "id": "PfU8Q7OFS2W_"
      },
      "outputs": [],
      "source": [
        "# Convert lists to numpy arrays\n",
        "X_test = np.array(x_valid)\n",
        "y_valid = np.array(y_valid)\n",
        "\n",
        "# Encode class labels\n",
        "label_encoder = LabelEncoder()\n",
        "y_test = label_encoder.fit_transform(y_valid)"
      ]
    },
    {
      "cell_type": "code",
      "execution_count": 11,
      "metadata": {
        "id": "sEw2J2NHS52r"
      },
      "outputs": [],
      "source": [
        "# Create a KNN classifier with k=3\n",
        "knn_classifier = KNeighborsClassifier(n_neighbors=3)"
      ]
    },
    {
      "cell_type": "code",
      "execution_count": null,
      "metadata": {
        "colab": {
          "base_uri": "https://localhost:8080/",
          "height": 74
        },
        "id": "XO4IY3LjTdot",
        "outputId": "af6b7b7a-da72-4d6c-fc17-c06045e2877c"
      },
      "outputs": [],
      "source": [
        "# Train the classifier\n",
        "knn_classifier.fit(X_train, y_train)"
      ]
    },
    {
      "cell_type": "code",
      "execution_count": null,
      "metadata": {
        "colab": {
          "base_uri": "https://localhost:8080/",
          "height": 0
        },
        "id": "01Uy8jvgTfpV",
        "outputId": "2eec76f2-30e4-4c53-a7fb-b6636723420e"
      },
      "outputs": [],
      "source": [
        "# Make predictions on the test set\n",
        "y_pred = knn_classifier.predict(X_test)\n",
        "print(y_pred)"
      ]
    },
    {
      "cell_type": "code",
      "execution_count": null,
      "metadata": {
        "colab": {
          "base_uri": "https://localhost:8080/",
          "height": 0
        },
        "id": "MucrswEyThsi",
        "outputId": "c22e0bb8-a921-4428-8f98-b643fe5f0ef2"
      },
      "outputs": [],
      "source": [
        "# Evaluate the accuracy of the classifier\n",
        "accuracy = accuracy_score(y_test, y_pred)\n",
        "print(\"Accuracy:\", accuracy)"
      ]
    },
    {
      "cell_type": "code",
      "execution_count": null,
      "metadata": {
        "colab": {
          "base_uri": "https://localhost:8080/",
          "height": 0
        },
        "id": "dVNYklUdTkba",
        "outputId": "e5c627e5-ba3f-4d2c-9b04-0fdc1c4e5657"
      },
      "outputs": [],
      "source": [
        "from sklearn.metrics import confusion_matrix# Calculate confusion matrix\n",
        "import seaborn as sns\n",
        "cm = confusion_matrix(y_test, y_pred)\n",
        "\n",
        "print(\"Confusion Matrix:\")\n",
        "print(cm)"
      ]
    },
    {
      "cell_type": "code",
      "execution_count": null,
      "metadata": {
        "colab": {
          "base_uri": "https://localhost:8080/",
          "height": 629
        },
        "id": "mINT61ajTmWD",
        "outputId": "ca460e70-8faa-4e11-8802-fb9dbb0d04c4"
      },
      "outputs": [],
      "source": [
        "# Plot the confusion matrix as a heatmap\n",
        "cm = confusion_matrix(y_test, y_pred)\n",
        "plt.figure(figsize=(8, 6))\n",
        "sns.heatmap(cm, annot=True, fmt=\"d\", cmap=\"Blues\", xticklabels=['Predicted 0', 'Predicted 1'], yticklabels=['Actual 0', 'Actual 1'])\n",
        "plt.xlabel(\"Predicted Label\")\n",
        "plt.ylabel(\"True Label\")\n",
        "plt.title(\"Confusion Matrix\")\n",
        "plt.show()"
      ]
    },
    {
      "cell_type": "code",
      "execution_count": null,
      "metadata": {
        "colab": {
          "base_uri": "https://localhost:8080/",
          "height": 545
        },
        "id": "62tJkK4oToPg",
        "outputId": "89975fed-3ac0-45d8-f8cf-0665dd213a23"
      },
      "outputs": [],
      "source": [
        "# Calculate correlation matrix\n",
        "correlation_matrix = np.corrcoef(y_pred, y_test)\n",
        "# Plot the correlation matrix as a heatmap\n",
        "plt.figure(figsize=(8, 6))\n",
        "sns.heatmap(correlation_matrix, annot=True, cmap=\"coolwarm\", xticklabels=['y_probs', 'y_true'], yticklabels=['y_probs', 'y_true'])\n",
        "plt.title(\"Correlation Matrix\")\n",
        "plt.show()"
      ]
    },
    {
      "cell_type": "code",
      "execution_count": 18,
      "metadata": {
        "id": "EIEpFMy5TsZS"
      },
      "outputs": [],
      "source": [
        "from sklearn.linear_model import LogisticRegression\n",
        "from sklearn.metrics import f1_score"
      ]
    },
    {
      "cell_type": "code",
      "execution_count": 19,
      "metadata": {
        "id": "0uk6QZkSTuvu"
      },
      "outputs": [],
      "source": [
        "# Create a logistic regression model for multi-class classification\n",
        "model = LogisticRegression(multi_class='multinomial', solver='lbfgs', max_iter=1000)"
      ]
    },
    {
      "cell_type": "code",
      "execution_count": null,
      "metadata": {
        "colab": {
          "base_uri": "https://localhost:8080/",
          "height": 233
        },
        "id": "V302QuJFTwg_",
        "outputId": "467a8622-edee-475c-d1d3-38fb055b67cc"
      },
      "outputs": [],
      "source": [
        "# Train the model on the training data\n",
        "model.fit(X_train, y_train)"
      ]
    },
    {
      "cell_type": "code",
      "execution_count": 21,
      "metadata": {
        "id": "D7Vxv_QlTybf"
      },
      "outputs": [],
      "source": [
        "# Make predictions on the test data\n",
        "y_pred = model.predict(X_test)"
      ]
    },
    {
      "cell_type": "code",
      "execution_count": null,
      "metadata": {
        "colab": {
          "base_uri": "https://localhost:8080/",
          "height": 0
        },
        "id": "QalhU2OUT0_x",
        "outputId": "84ddb09f-7a8a-4785-d78f-ceb93dc263da"
      },
      "outputs": [],
      "source": [
        "# Evaluate the model\n",
        "accuracy = accuracy_score(y_test, y_pred)\n",
        "classification_report_result = classification_report(y_test, y_pred)\n",
        "\n",
        "print(f'Accuracy: {accuracy:.2f}')\n",
        "print('Classification Report:\\n', classification_report_result)"
      ]
    },
    {
      "cell_type": "code",
      "execution_count": null,
      "metadata": {
        "colab": {
          "base_uri": "https://localhost:8080/",
          "height": 629
        },
        "id": "W__gXhOoT3Ar",
        "outputId": "a50b52ab-47ec-4520-94ff-3b36c1427cb7"
      },
      "outputs": [],
      "source": [
        "# Plot the confusion matrix as a heatmap\n",
        "cm = confusion_matrix(y_test, y_pred)\n",
        "plt.figure(figsize=(8, 6))\n",
        "sns.heatmap(cm, annot=True, fmt=\"d\", cmap=\"Blues\", xticklabels=['Predicted 0', 'Predicted 1'], yticklabels=['Actual 0', 'Actual 1'])\n",
        "plt.xlabel(\"Predicted Label\")\n",
        "plt.ylabel(\"True Label\")\n",
        "plt.title(\"Confusion Matrix\")\n",
        "plt.show()"
      ]
    },
    {
      "cell_type": "code",
      "execution_count": null,
      "metadata": {
        "colab": {
          "base_uri": "https://localhost:8080/",
          "height": 545
        },
        "id": "t3PT_wCkT45u",
        "outputId": "e453cf86-31bf-4ab2-aa1f-1cf511a7f3e3"
      },
      "outputs": [],
      "source": [
        "\n",
        "# Calculate correlation matrix\n",
        "correlation_matrix = np.corrcoef(y_pred, y_test)\n",
        "# Plot the correlation matrix as a heatmap\n",
        "plt.figure(figsize=(8, 6))\n",
        "sns.heatmap(correlation_matrix, annot=True, cmap=\"coolwarm\", xticklabels=['y_probs', 'y_true'], yticklabels=['y_probs', 'y_true'])\n",
        "plt.title(\"Correlation Matrix\")\n",
        "plt.show()"
      ]
    },
    {
      "cell_type": "code",
      "execution_count": 25,
      "metadata": {
        "id": "AJBEFDxfT8AR"
      },
      "outputs": [],
      "source": [
        "from sklearn.ensemble import RandomForestClassifier"
      ]
    },
    {
      "cell_type": "code",
      "execution_count": 26,
      "metadata": {
        "id": "eKxJe7jCU2df"
      },
      "outputs": [],
      "source": [
        "# Create a Random Forest classifier for multiclass classification\n",
        "model = RandomForestClassifier(n_estimators=100, random_state=42)"
      ]
    },
    {
      "cell_type": "code",
      "execution_count": null,
      "metadata": {
        "colab": {
          "base_uri": "https://localhost:8080/",
          "height": 74
        },
        "id": "64AhWxKdU4CJ",
        "outputId": "74c1d86a-67cd-493d-f486-371c301ee44d"
      },
      "outputs": [],
      "source": [
        "# Train the model on the training data\n",
        "model.fit(X_train, y_train)"
      ]
    },
    {
      "cell_type": "code",
      "execution_count": 28,
      "metadata": {
        "id": "bYEZKRXMU5ZE"
      },
      "outputs": [],
      "source": [
        "# Make predictions on the test data\n",
        "y_pred = model.predict(X_test)"
      ]
    },
    {
      "cell_type": "code",
      "execution_count": null,
      "metadata": {
        "colab": {
          "base_uri": "https://localhost:8080/",
          "height": 0
        },
        "id": "kXwA1-21U7Fe",
        "outputId": "18922346-380f-4934-d01b-5e019f077161"
      },
      "outputs": [],
      "source": [
        "# Evaluate the model\n",
        "accuracy = accuracy_score(y_test, y_pred)\n",
        "classification_report_result = classification_report(y_test, y_pred)\n",
        "\n",
        "print(f'Accuracy: {accuracy:.2f}')\n",
        "print('Classification Report:\\n', classification_report_result)"
      ]
    },
    {
      "cell_type": "code",
      "execution_count": null,
      "metadata": {
        "colab": {
          "base_uri": "https://localhost:8080/",
          "height": 629
        },
        "id": "aikeNbvgU82p",
        "outputId": "4b4aa21b-0e22-42c7-9625-ccc8d2625265"
      },
      "outputs": [],
      "source": [
        "# Plot the confusion matrix as a heatmap\n",
        "cm = confusion_matrix(y_test, y_pred)\n",
        "plt.figure(figsize=(8, 6))\n",
        "sns.heatmap(cm, annot=True, fmt=\"d\", cmap=\"Blues\", xticklabels=['Predicted 0', 'Predicted 1'], yticklabels=['Actual 0', 'Actual 1'])\n",
        "plt.xlabel(\"Predicted Label\")\n",
        "plt.ylabel(\"True Label\")\n",
        "plt.title(\"Confusion Matrix\")\n",
        "plt.show()"
      ]
    },
    {
      "cell_type": "code",
      "execution_count": null,
      "metadata": {
        "colab": {
          "base_uri": "https://localhost:8080/",
          "height": 545
        },
        "id": "Yz6FVP_NU_uj",
        "outputId": "f94dd219-c601-4ffc-d2f0-37f1628b2f83"
      },
      "outputs": [],
      "source": [
        "\n",
        "# Calculate correlation matrix\n",
        "correlation_matrix = np.corrcoef(y_pred, y_test)\n",
        "# Plot the correlation matrix as a heatmap\n",
        "plt.figure(figsize=(8, 6))\n",
        "sns.heatmap(correlation_matrix, annot=True, cmap=\"coolwarm\", xticklabels=['y_probs', 'y_true'], yticklabels=['y_probs', 'y_true'])\n",
        "plt.title(\"Correlation Matrix\")\n",
        "plt.show()"
      ]
    },
    {
      "cell_type": "code",
      "execution_count": 32,
      "metadata": {
        "id": "_Ni6M3ZpVCiK"
      },
      "outputs": [],
      "source": [
        "from keras.models import Sequential\n",
        "from keras.layers import Dense\n",
        "from sklearn.model_selection import train_test_split\n",
        "from sklearn.preprocessing import LabelEncoder\n",
        "from keras.utils import to_categorical"
      ]
    },
    {
      "cell_type": "code",
      "execution_count": 33,
      "metadata": {
        "id": "h_jC5iVdVdNh"
      },
      "outputs": [],
      "source": [
        "\n",
        "# Encode class labels\n",
        "label_encoder = LabelEncoder()\n",
        "y_train_encoded = label_encoder.fit_transform(y_train)\n",
        "y_test_encoded = label_encoder.transform(y_test)\n",
        "\n",
        "# Convert class labels to one-hot encoded format\n",
        "y_train_one_hot = to_categorical(y_train_encoded)\n",
        "y_test_one_hot = to_categorical(y_test_encoded)"
      ]
    },
    {
      "cell_type": "code",
      "execution_count": 34,
      "metadata": {
        "id": "WTBbODiNVe5P"
      },
      "outputs": [],
      "source": [
        "# Build the ANN model\n",
        "model = Sequential()\n",
        "model.add(Dense(64, input_dim=X_train.shape[1], activation='relu'))\n",
        "model.add(Dense(32, activation='relu'))\n",
        "model.add(Dense(len(label_encoder.classes_), activation='softmax'))"
      ]
    },
    {
      "cell_type": "code",
      "execution_count": 35,
      "metadata": {
        "id": "lqTjXp7NVgoP"
      },
      "outputs": [],
      "source": [
        "# Compile the model\n",
        "model.compile(loss='sparse_categorical_crossentropy', optimizer='adam', metrics=['accuracy'])"
      ]
    },
    {
      "cell_type": "code",
      "execution_count": null,
      "metadata": {
        "colab": {
          "base_uri": "https://localhost:8080/",
          "height": 0
        },
        "id": "r0whci1jVipQ",
        "outputId": "b1a075af-9f46-4525-ae74-3d3c40ae4d56"
      },
      "outputs": [],
      "source": [
        "# Train the model\n",
        "model.fit(X_train, y_train_encoded, epochs=50, batch_size=32, validation_split=0.2)\n"
      ]
    },
    {
      "cell_type": "code",
      "execution_count": null,
      "metadata": {
        "colab": {
          "base_uri": "https://localhost:8080/",
          "height": 0
        },
        "id": "XtqgKlmlVlBc",
        "outputId": "c8acc3a5-f55d-486d-f4e1-8e7cee344d23"
      },
      "outputs": [],
      "source": [
        "# Evaluate the model on the validation data\n",
        "eval_result = model.evaluate(X_test, y_test_encoded)"
      ]
    },
    {
      "cell_type": "code",
      "execution_count": null,
      "metadata": {
        "colab": {
          "base_uri": "https://localhost:8080/",
          "height": 0
        },
        "id": "VoryqPcdVn6-",
        "outputId": "a5dca226-4a99-4fa0-f67d-63658136436e"
      },
      "outputs": [],
      "source": [
        "## Display evaluation results\n",
        "print(f'Loss: {eval_result[0]}, Accuracy: {eval_result[1]}')"
      ]
    },
    {
      "cell_type": "code",
      "execution_count": null,
      "metadata": {
        "colab": {
          "base_uri": "https://localhost:8080/",
          "height": 0
        },
        "id": "LIPv_rFEVpvC",
        "outputId": "56b17af1-17c7-4cad-bbaa-df863845d6ed"
      },
      "outputs": [],
      "source": [
        "# Extract predictions\n",
        "y_pred_probs = model.predict(X_test)\n",
        "y_pred = np.argmax(y_pred_probs, axis=1)\n"
      ]
    },
    {
      "cell_type": "code",
      "execution_count": null,
      "metadata": {
        "colab": {
          "base_uri": "https://localhost:8080/",
          "height": 0
        },
        "id": "UkMH4xvVVraC",
        "outputId": "938e0762-b780-4fe5-9b78-c87e5f570eb5"
      },
      "outputs": [],
      "source": [
        "# Convert one-hot encoded true labels to class labels\n",
        "y_true = np.argmax(y_test_encoded)\n",
        "\n",
        "# Print the evaluation results\n",
        "print(\"\\nEvaluation Results:\")\n",
        "print(f\"Loss: {eval_result[0]}\")\n",
        "print(f\"Accuracy: {eval_result[1]}\")"
      ]
    },
    {
      "cell_type": "code",
      "execution_count": null,
      "metadata": {
        "colab": {
          "base_uri": "https://localhost:8080/",
          "height": 629
        },
        "id": "27ur16c0Vt6j",
        "outputId": "f8246e30-9cfb-4065-aa31-62adff8356ca"
      },
      "outputs": [],
      "source": [
        "# Plot the confusion matrix as a heatmap\n",
        "cm = confusion_matrix(y_test, y_pred)\n",
        "plt.figure(figsize=(8, 6))\n",
        "sns.heatmap(cm, annot=True, fmt=\"d\", cmap=\"Blues\", xticklabels=['Predicted 0', 'Predicted 1'], yticklabels=['Actual 0', 'Actual 1'])\n",
        "plt.xlabel(\"Predicted Label\")\n",
        "plt.ylabel(\"True Label\")\n",
        "plt.title(\"Confusion Matrix\")\n",
        "plt.show()"
      ]
    },
    {
      "cell_type": "code",
      "execution_count": null,
      "metadata": {
        "colab": {
          "base_uri": "https://localhost:8080/",
          "height": 545
        },
        "id": "z2yiMRcSVwDP",
        "outputId": "805c9b4b-3e37-4258-962b-8ec01a26b6be"
      },
      "outputs": [],
      "source": [
        "# Calculate correlation matrix\n",
        "correlation_matrix = np.corrcoef(y_pred, y_test)\n",
        "# Plot the correlation matrix as a heatmap\n",
        "plt.figure(figsize=(8, 6))\n",
        "sns.heatmap(correlation_matrix, annot=True, cmap=\"coolwarm\", xticklabels=['y_probs', 'y_true'], yticklabels=['y_probs', 'y_true'])\n",
        "plt.title(\"Correlation Matrix\")\n",
        "plt.show()"
      ]
    },
    {
      "cell_type": "code",
      "execution_count": 43,
      "metadata": {
        "id": "4Uagz-EyVx2Q"
      },
      "outputs": [],
      "source": [
        "from sklearn.tree import DecisionTreeClassifier"
      ]
    },
    {
      "cell_type": "code",
      "execution_count": 44,
      "metadata": {
        "id": "X3t7UhIDXKu0"
      },
      "outputs": [],
      "source": [
        "# Initialize the decision tree classifier\n",
        "dt_classifier = DecisionTreeClassifier(random_state=42)"
      ]
    },
    {
      "cell_type": "code",
      "execution_count": null,
      "metadata": {
        "colab": {
          "base_uri": "https://localhost:8080/",
          "height": 74
        },
        "id": "N7UfnnHEXMyR",
        "outputId": "ac7c49be-34d7-4225-eb4e-7c9989b9aea9"
      },
      "outputs": [],
      "source": [
        "# Train the decision tree classifier\n",
        "dt_classifier.fit(X_train, y_train)"
      ]
    },
    {
      "cell_type": "code",
      "execution_count": 46,
      "metadata": {
        "id": "gsyy8Cq9XOro"
      },
      "outputs": [],
      "source": [
        "# Make predictions on the test set\n",
        "y_pred = dt_classifier.predict(X_test)"
      ]
    },
    {
      "cell_type": "code",
      "execution_count": null,
      "metadata": {
        "colab": {
          "base_uri": "https://localhost:8080/",
          "height": 0
        },
        "id": "B7LnmtiFXQVs",
        "outputId": "bf0783ac-138e-4314-8b69-0416a71edcf4"
      },
      "outputs": [],
      "source": [
        "# Evaluate the model\n",
        "accuracy = accuracy_score(y_test, y_pred)\n",
        "conf_matrix = confusion_matrix(y_test, y_pred)\n",
        "# Calculate correlation matrix\n",
        "correlation_matrix = np.corrcoef(y_pred, y_test)\n",
        "class_report = classification_report(y_test, y_pred)\n",
        "\n",
        "# Print the evaluation results\n",
        "print(f\"Accuracy: {accuracy:.4f}\")\n",
        "print(\"\\nConfusion Matrix:\")\n",
        "print(conf_matrix)\n",
        "print(\"\\nClassification Report:\")\n",
        "print(class_report)"
      ]
    },
    {
      "cell_type": "code",
      "execution_count": null,
      "metadata": {
        "colab": {
          "base_uri": "https://localhost:8080/",
          "height": 799
        },
        "id": "LcmTZpK3XSNB",
        "outputId": "b19971d0-3b90-4638-ca47-80ac62bb813d"
      },
      "outputs": [],
      "source": [
        "# Plot the confusion matrix as a heatmap\n",
        "plt.figure(figsize=(8, 6))\n",
        "sns.heatmap(conf_matrix, annot=True, fmt=\"d\", cmap=\"Blues\", xticklabels=np.unique(y), yticklabels=np.unique(y))\n",
        "plt.xlabel(\"Predicted Label\")\n",
        "plt.ylabel(\"True Label\")\n",
        "plt.title(\"Confusion Matrix\")\n",
        "plt.show()"
      ]
    },
    {
      "cell_type": "code",
      "execution_count": null,
      "metadata": {
        "colab": {
          "base_uri": "https://localhost:8080/",
          "height": 545
        },
        "id": "HKT8LiT5XUob",
        "outputId": "6aba1508-7703-47c4-fc2a-a6c921abf0c9"
      },
      "outputs": [],
      "source": [
        "# Plot the correlation matrix as a heatmap\n",
        "plt.figure(figsize=(8, 6))\n",
        "sns.heatmap(correlation_matrix, annot=True, cmap=\"coolwarm\", xticklabels=['y_probs', 'y_true'], yticklabels=['y_probs', 'y_true'])\n",
        "plt.title(\"Correlation Matrix\")\n",
        "plt.show()"
      ]
    },
    {
      "cell_type": "code",
      "execution_count": 50,
      "metadata": {
        "id": "IcWNS5skXWe-"
      },
      "outputs": [],
      "source": [
        "from sklearn.naive_bayes import GaussianNB"
      ]
    },
    {
      "cell_type": "code",
      "execution_count": 51,
      "metadata": {
        "id": "unR09dlZXcjQ"
      },
      "outputs": [],
      "source": [
        "# Initialize the Gaussian Naive Bayes classifier\n",
        "nb_classifier = GaussianNB()"
      ]
    },
    {
      "cell_type": "code",
      "execution_count": null,
      "metadata": {
        "colab": {
          "base_uri": "https://localhost:8080/",
          "height": 74
        },
        "id": "LFutEKTIXeCE",
        "outputId": "2ed81f00-29b0-4235-d6a0-cb23da325fdd"
      },
      "outputs": [],
      "source": [
        "# Train the classifier\n",
        "nb_classifier.fit(X_train, y_train)"
      ]
    },
    {
      "cell_type": "code",
      "execution_count": 53,
      "metadata": {
        "id": "V8uOO3tnXhON"
      },
      "outputs": [],
      "source": [
        "# Make predictions on the test set\n",
        "y_pred = nb_classifier.predict(X_test)"
      ]
    },
    {
      "cell_type": "code",
      "execution_count": null,
      "metadata": {
        "id": "nRnkUhpBXjSk"
      },
      "outputs": [],
      "source": [
        "# Evaluate the model\n",
        "accuracy = accuracy_score(y_test, y_pred)\n",
        "conf_matrix = confusion_matrix(y_test, y_pred)\n",
        "class_report = classification_report(y_test, y_pred)"
      ]
    },
    {
      "cell_type": "code",
      "execution_count": null,
      "metadata": {
        "colab": {
          "base_uri": "https://localhost:8080/",
          "height": 0
        },
        "id": "UIWyAm8GXk7p",
        "outputId": "ae69846c-ec7f-456d-82ed-7c0737d25469"
      },
      "outputs": [],
      "source": [
        "# Print the evaluation results\n",
        "print(f\"Accuracy: {accuracy:.2f}\")\n",
        "print(\"\\nConfusion Matrix:\")\n",
        "print(conf_matrix)\n",
        "print(\"\\nClassification Report:\")\n",
        "print(class_report)"
      ]
    },
    {
      "cell_type": "code",
      "execution_count": null,
      "metadata": {
        "colab": {
          "base_uri": "https://localhost:8080/",
          "height": 799
        },
        "id": "DPfWoiRpXnSg",
        "outputId": "b385ec92-d6a0-493f-dcf1-c994d6d1613d"
      },
      "outputs": [],
      "source": [
        "# Plot the confusion matrix as a heatmap\n",
        "plt.figure(figsize=(8, 6))\n",
        "sns.heatmap(conf_matrix, annot=True, fmt=\"d\", cmap=\"Blues\", xticklabels=np.unique(y), yticklabels=np.unique(y))\n",
        "plt.xlabel(\"Predicted Label\")\n",
        "plt.ylabel(\"True Label\")\n",
        "plt.title(\"Confusion Matrix\")\n",
        "plt.show()"
      ]
    },
    {
      "cell_type": "code",
      "execution_count": null,
      "metadata": {
        "colab": {
          "base_uri": "https://localhost:8080/",
          "height": 545
        },
        "id": "rI8NnroKXvpb",
        "outputId": "56870261-532a-4e78-b95d-3c53b01fa7a8"
      },
      "outputs": [],
      "source": [
        "# Calculate correlation matrix\n",
        "correlation_matrix = np.corrcoef(y_pred, y_test)\n",
        "# Plot the correlation matrix as a heatmap\n",
        "plt.figure(figsize=(8, 6))\n",
        "sns.heatmap(correlation_matrix, annot=True, cmap=\"coolwarm\", xticklabels=['y_probs', 'y_true'], yticklabels=['y_probs', 'y_true'])\n",
        "plt.title(\"Correlation Matrix\")\n",
        "plt.show()"
      ]
    },
    {
      "cell_type": "code",
      "execution_count": 58,
      "metadata": {
        "id": "QNtNSJh8XxgM"
      },
      "outputs": [],
      "source": [
        "import numpy as np\n",
        "import pandas as pd\n",
        "import seaborn as sns\n",
        "import matplotlib.pyplot as plt\n",
        "import os\n",
        "import tensorflow\n",
        "import tensorflow as tf\n",
        "# from tensorflow.keras.applications import ResNet50\n",
        "from tensorflow import keras\n",
        "#from tensorflow.keras.applications.resnet50 import preprocess_input\n",
        "from keras.models import Sequential,load_model,Model\n",
        "from keras.layers import Conv2D,MaxPool2D,AveragePooling2D,Dense,Flatten,ZeroPadding2D,BatchNormalization,Activation,Add,Input,Dropout,GlobalAveragePooling2D\n",
        "from keras.initializers import glorot_uniform\n",
        "from keras.preprocessing.image import ImageDataGenerator\n",
        "from keras.callbacks import ModelCheckpoint,EarlyStopping,ReduceLROnPlateau\n",
        "import warnings\n",
        "warnings.filterwarnings(action='ignore')"
      ]
    },
    {
      "cell_type": "code",
      "execution_count": 59,
      "metadata": {
        "id": "wmCf7NWRXz46"
      },
      "outputs": [],
      "source": [
        "data_dir = \"/content/New Plant Diseases Dataset(Augmented)/New Plant Diseases Dataset(Augmented)\"\n",
        "train_dir = data_dir + \"/train\"\n",
        "valid_dir = data_dir + \"/valid\"\n",
        "test_path  = os.path.join(\"/content/test\", \"test\")"
      ]
    },
    {
      "cell_type": "code",
      "execution_count": null,
      "metadata": {
        "colab": {
          "base_uri": "https://localhost:8080/",
          "height": 1241
        },
        "id": "BSmbhKJSX3C2",
        "outputId": "478cedd5-a836-4652-a148-6dbca098dfe6"
      },
      "outputs": [],
      "source": [
        "diseases = os.listdir(train_dir)\n",
        "nums = {}\n",
        "for disease in diseases:\n",
        "    nums[disease] = len(os.listdir(train_dir + '/' + disease))\n",
        "img_per_class = pd.DataFrame(nums.values(), index=nums.keys(), columns=[\"no. of images\"])\n",
        "img_per_class"
      ]
    },
    {
      "cell_type": "code",
      "execution_count": null,
      "metadata": {
        "colab": {
          "base_uri": "https://localhost:8080/",
          "height": 0
        },
        "id": "xDEgzpUoX4hu",
        "outputId": "13612224-1f8c-40c2-ed08-36ecb845569f"
      },
      "outputs": [],
      "source": [
        "train_datagen= ImageDataGenerator(\n",
        "    rotation_range=25,\n",
        "    width_shift_range=0.2,\n",
        "    height_shift_range=0.2,\n",
        "    shear_range=0.2,\n",
        "    zoom_range=0.2,\n",
        "    horizontal_flip=True,\n",
        "    rescale=1/255.0,\n",
        "    fill_mode='nearest',\n",
        "    validation_split=0.1)\n",
        "val_datagen= ImageDataGenerator(\n",
        "    rotation_range=25,\n",
        "    width_shift_range=0.2,\n",
        "    height_shift_range=0.2,\n",
        "    shear_range=0.2,\n",
        "    zoom_range=0.2,\n",
        "    fill_mode='nearest',\n",
        "    horizontal_flip=True,\n",
        "    rescale=1/255.0,\n",
        "    validation_split=0.1)\n",
        "train= train_datagen.flow_from_directory(train_dir,batch_size=128,target_size=(210,210),color_mode='rgb',class_mode='categorical',seed=42)\n",
        "valid=val_datagen.flow_from_directory(valid_dir,batch_size=128,target_size=(210,210),color_mode='rgb',class_mode='categorical')"
      ]
    },
    {
      "cell_type": "code",
      "execution_count": null,
      "metadata": {
        "colab": {
          "base_uri": "https://localhost:8080/",
          "height": 702
        },
        "id": "rczUkEmgX7A8",
        "outputId": "f1816964-e1a5-4605-f925-be50751fe4b4"
      },
      "outputs": [],
      "source": [
        "classes=list(train.class_indices.keys())\n",
        "plt.figure(figsize=(20,20))\n",
        "for X_batch, y_batch in train:\n",
        "    for i in range(0,20):\n",
        "        plt.subplot(5,5,i+1)\n",
        "        plt.imshow(X_batch[i])\n",
        "        plt.title(classes[np.where(y_batch[i]==1)[0][0]])\n",
        "    plt.show()\n",
        "    break"
      ]
    },
    {
      "cell_type": "code",
      "execution_count": null,
      "metadata": {
        "colab": {
          "base_uri": "https://localhost:8080/",
          "height": 0
        },
        "id": "_JU7_QqwX9N7",
        "outputId": "854504fd-99fe-4721-ea22-4c20cc509d19"
      },
      "outputs": [],
      "source": [
        "model = keras.Sequential()\n",
        "model.add(keras.layers.Conv2D(32,3,activation=\"relu\",padding=\"same\",input_shape=(210,210,3)))\n",
        "model.add(BatchNormalization())\n",
        "model.add(keras.layers.MaxPooling2D())\n",
        "model.add(keras.layers.Conv2D(64,3,activation=\"relu\",padding=\"same\"))\n",
        "model.add(keras.layers.MaxPooling2D())\n",
        "model.add(BatchNormalization())\n",
        "model.add(keras.layers.Conv2D(128,3,activation=\"relu\",padding=\"same\"))\n",
        "model.add(keras.layers.MaxPooling2D())\n",
        "model.add(BatchNormalization())\n",
        "\n",
        "model.add(keras.layers.Flatten())\n",
        "\n",
        "model.add(keras.layers.Dense(256,activation=\"relu\"))\n",
        "model.add(keras.layers.Dense(38,activation=\"softmax\"))\n",
        "\n",
        "model.summary()"
      ]
    },
    {
      "cell_type": "code",
      "execution_count": null,
      "metadata": {
        "colab": {
          "base_uri": "https://localhost:8080/",
          "height": 797
        },
        "id": "6nM2Fn03YG37",
        "outputId": "26c9dce4-de33-4452-ef08-8d5d3c1cd683"
      },
      "outputs": [],
      "source": [
        "path='/content/New Plant Diseases Dataset(Augmented)/New Plant Diseases Dataset(Augmented)/train'\n",
        "plt.figure(figsize=(70,70))\n",
        "count=0\n",
        "plant_names=[]\n",
        "total_images=0\n",
        "for i in os.listdir(path):\n",
        "  count+=1\n",
        "  plant_names.append(i)\n",
        "  plt.subplot(7,7,count)\n",
        "\n",
        "  images_path=os.listdir(path+\"/\"+i)\n",
        "  print(\"Number of images of \"+i+\":\",len(images_path),\"||\",end=\" \")\n",
        "  total_images+=len(images_path)\n",
        "\n",
        "  image_show=plt.imread(path+\"/\"+i+\"/\"+images_path[0])\n",
        "\n",
        "  plt.imshow(image_show)\n",
        "  plt.xlabel(i)\n",
        "\n",
        "  plt.xticks([])\n",
        "  plt.yticks([])\n",
        "\n",
        "\n",
        "print(\"Total number of images we have\",total_images)"
      ]
    },
    {
      "cell_type": "code",
      "execution_count": 66,
      "metadata": {
        "id": "qDs-yvZGaFd9"
      },
      "outputs": [],
      "source": [
        "import tensorflow\n",
        "from tensorflow import keras\n",
        "from keras.models import Sequential,load_model,Model\n",
        "from keras.layers import Conv2D,MaxPool2D,AveragePooling2D,Dense,Flatten,ZeroPadding2D,BatchNormalization,Activation,Add,Input,Dropout,GlobalAveragePooling2D\n",
        "from keras.optimizers import SGD\n",
        "from keras.initializers import glorot_uniform\n",
        "from keras.preprocessing.image import ImageDataGenerator\n",
        "from keras.callbacks import ModelCheckpoint,EarlyStopping,ReduceLROnPlateau"
      ]
    },
    {
      "cell_type": "code",
      "execution_count": 67,
      "metadata": {
        "id": "LHjoSN77aKaa"
      },
      "outputs": [],
      "source": [
        "from tensorflow.keras.applications import ResNet50\n",
        "from tensorflow.keras.applications.resnet50 import preprocess_input"
      ]
    },
    {
      "cell_type": "code",
      "execution_count": null,
      "metadata": {
        "colab": {
          "base_uri": "https://localhost:8080/",
          "height": 0
        },
        "id": "9xzKdQ7maNEb",
        "outputId": "7daf369b-7099-4fa9-eac0-280f15846be0"
      },
      "outputs": [],
      "source": [
        "base_model_tf=ResNet50(include_top=False,weights='imagenet',input_shape=(224,224,3),classes=38)"
      ]
    },
    {
      "cell_type": "code",
      "execution_count": null,
      "metadata": {
        "colab": {
          "base_uri": "https://localhost:8080/",
          "height": 0
        },
        "id": "5WmqCBTnaP60",
        "outputId": "4e9bc445-5d3c-4fe7-d9fd-ef2d36674a6f"
      },
      "outputs": [],
      "source": [
        "#Model building\n",
        "base_model_tf.trainable=False\n",
        "\n",
        "pt=Input(shape=(224,224,3))\n",
        "func=tensorflow.cast(pt,tensorflow.float32)\n",
        "x=preprocess_input(func) #This function used to zero-center each color channel wrt Imagenet dataset\n",
        "model_resnet=base_model_tf(x,training=False)\n",
        "model_resnet=GlobalAveragePooling2D()(model_resnet)\n",
        "model_resnet=Dense(128,activation='relu')(model_resnet)\n",
        "model_resnet=Dense(64,activation='relu')(model_resnet)\n",
        "model_resnet=Dense(38,activation='softmax')(model_resnet)\n",
        "\n",
        "\n",
        "model_main=Model(inputs=pt,outputs=model_resnet)\n",
        "model_main.summary()"
      ]
    },
    {
      "cell_type": "code",
      "execution_count": null,
      "metadata": {
        "colab": {
          "base_uri": "https://localhost:8080/",
          "height": 0
        },
        "id": "qt9yAF5SaSpZ",
        "outputId": "bc73e9ce-078c-42df-b165-0999475fd8a3"
      },
      "outputs": [],
      "source": [
        "#Image augmentation\n",
        "train_datagen= ImageDataGenerator(shear_range=0.2,zoom_range=0.2,horizontal_flip=False,vertical_flip=False,fill_mode='nearest',width_shift_range=0.2,height_shift_range=0.2)\n",
        "\n",
        "val_datagen=ImageDataGenerator()\n",
        "\n",
        "path_train='/content/New Plant Diseases Dataset(Augmented)/New Plant Diseases Dataset(Augmented)/train'\n",
        "\n",
        "path_valid='/content/New Plant Diseases Dataset(Augmented)/New Plant Diseases Dataset(Augmented)/valid'\n",
        "\n",
        "train= train_datagen.flow_from_directory(directory=path_train,batch_size=32,target_size=(224,224),color_mode='rgb',class_mode='categorical',seed=42)\n",
        "\n",
        "valid=val_datagen.flow_from_directory(directory=path_valid,batch_size=32,target_size=(224,224),color_mode='rgb',class_mode='categorical')"
      ]
    },
    {
      "cell_type": "code",
      "execution_count": 71,
      "metadata": {
        "id": "3cGuWUZYaWLn"
      },
      "outputs": [],
      "source": [
        "#CallBacks\n",
        "es=EarlyStopping(monitor='val_accuracy',verbose=1,patience=7,mode='auto')\n",
        "mc=ModelCheckpoint(filepath='/content',monitor='val_accuracy',verbose=1,save_best_only=True)\n",
        "lr=ReduceLROnPlateau(monitor='val_accuracy',verbose=1,patience=5,min_lr=0.001)"
      ]
    },
    {
      "cell_type": "code",
      "execution_count": 72,
      "metadata": {
        "id": "xuYC1bP4aYgf"
      },
      "outputs": [],
      "source": [
        "model_main.compile(optimizer='Adam',loss='categorical_crossentropy',metrics=['accuracy'])"
      ]
    },
    {
      "cell_type": "code",
      "execution_count": null,
      "metadata": {
        "colab": {
          "base_uri": "https://localhost:8080/"
        },
        "id": "RuRf5ymZaatC",
        "outputId": "512d4361-8cf5-4f79-a354-3373e9d82584"
      },
      "outputs": [],
      "source": [
        "#Training\n",
        "model_main.fit(train,validation_data=valid,epochs=6,steps_per_epoch=200,verbose=1,callbacks=[mc,es,lr])"
      ]
    },
    {
      "cell_type": "code",
      "execution_count": null,
      "metadata": {
        "colab": {
          "base_uri": "https://localhost:8080/",
          "height": 503
        },
        "id": "FBebnsMQacn5",
        "outputId": "fd3c0e5c-2167-427b-d801-2be567762a1d"
      },
      "outputs": [],
      "source": [
        "plt.figure(figsize=(10,5))\n",
        "plt.plot(model_main.history.history['accuracy'],color='b',label='Training accuracy')\n",
        "plt.plot(model_main.history.history['val_accuracy'],color='r',label='Validation accsuracy')\n",
        "plt.xlabel(\"epochs\")\n",
        "plt.ylabel(\"accuracy\")\n",
        "plt.title(\"accuracy graph\")"
      ]
    },
    {
      "cell_type": "code",
      "execution_count": 76,
      "metadata": {
        "id": "1uDHVFEMafa3"
      },
      "outputs": [],
      "source": [
        "import pickle\n",
        "\n",
        "# Save model using pickle\n",
        "with open('model_main.pkl', 'wb') as file:\n",
        "    pickle.dump(model, file)\n",
        "#saved model"
      ]
    }
  ],
  "metadata": {
    "accelerator": "GPU",
    "colab": {
      "gpuType": "T4",
      "provenance": []
    },
    "kernelspec": {
      "display_name": "Python 3",
      "name": "python3"
    },
    "language_info": {
      "name": "python"
    }
  },
  "nbformat": 4,
  "nbformat_minor": 0
}
